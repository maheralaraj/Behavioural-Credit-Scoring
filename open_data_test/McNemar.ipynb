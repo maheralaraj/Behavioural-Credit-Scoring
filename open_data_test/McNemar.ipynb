{
 "cells": [
  {
   "cell_type": "code",
   "execution_count": 1,
   "metadata": {},
   "outputs": [],
   "source": [
    "import pickle\n",
    "import numpy as np\n",
    "import pandas as pd\n",
    "from statsmodels.stats.contingency_tables import mcnemar"
   ]
  },
  {
   "cell_type": "code",
   "execution_count": 2,
   "metadata": {},
   "outputs": [],
   "source": [
    "lstm_result_path = \"data/LSTM_enhanced_results.pickle\"\n",
    "classifiers_result_path = \"data/classifiers_results.pickle\""
   ]
  },
  {
   "cell_type": "code",
   "execution_count": 3,
   "metadata": {},
   "outputs": [],
   "source": [
    "def compare(first, second):\n",
    "        second = pd.DataFrame(second)\n",
    "        second.columns = [i+\"_y\" for i in second.columns]\n",
    "        res = pd.concat([first,second],axis=1)\n",
    "  \n",
    "        res[['scores_x', 'scores_y']] = res[['scores_x', 'scores_y']].round(decimals=0)\n",
    "\n",
    "        yes_yes = res[(res['actual_x'] != res['scores_x']) & (res['actual_x'] != res['scores_y'])].shape[0]\n",
    "        yes_no = res[(res['actual_x'] != res['scores_x']) & (res['actual_x'] == res['scores_y'])].shape[0]\n",
    "        no_yes = res[(res['actual_x'] == res['scores_x']) & (res['actual_x'] != res['scores_y'])].shape[0]\n",
    "        no_no = res[(res['actual_x'] == res['scores_x']) & (res['actual_x'] == res['scores_y'])].shape[0]\n",
    "\n",
    "        table = np.array([[yes_yes, yes_no], [no_yes, no_no]])\n",
    "        test = mcnemar(table, exact=False)\n",
    "        dictionary = dict(pvalue=test.pvalue, statistic=test.statistic)\n",
    "        return dictionary"
   ]
  },
  {
   "cell_type": "code",
   "execution_count": 6,
   "metadata": {},
   "outputs": [
    {
     "name": "stdout",
     "output_type": "stream",
     "text": [
      "LSTM vc Gradient Boosting {'pvalue': 3.624358498759576e-05, 'statistic': 17.05861456483126}\n",
      "LSTM vc Bagging NN {'pvalue': 8.019335217437568e-11, 'statistic': 42.25308641975309}\n",
      "LSTM vc SVM {'pvalue': 2.7759987542465218e-18, 'statistic': 76.04267701260912}\n",
      "LSTM vc Random Forest {'pvalue': 1.024707295783294e-47, 'statistic': 210.58333333333334}\n",
      "LSTM vc Logistic Regression {'pvalue': 1.150384773651047e-29, 'statistic': 127.95117428924598}\n"
     ]
    }
   ],
   "source": [
    "with open(lstm_result_path, \"rb\") as fp:\n",
    "    lstm_dict = pickle.load(fp)\n",
    "with open(classifiers_result_path, \"rb\") as fp:\n",
    "    classifiers_dict = pickle.load(fp)\n",
    "result = {}\n",
    "\n",
    "lstm_dict = pd.DataFrame(lstm_dict)\n",
    "lstm_dict.columns = [i+\"_x\" for i in lstm_dict.columns]\n",
    "\n",
    "for i in classifiers_dict.keys():\n",
    "    result['LSTM vc ' + str(i)] = compare(lstm_dict, classifiers_dict[i])\n",
    "\n",
    "with open(\"../pickle/McNemar.pickle\", \"wb\") as fp:\n",
    "    pickle.dump(result, fp)\n",
    "\n",
    "for i in result.keys():   \n",
    "    print(i,result[i])"
   ]
  },
  {
   "cell_type": "code",
   "execution_count": null,
   "metadata": {},
   "outputs": [],
   "source": []
  }
 ],
 "metadata": {
  "kernelspec": {
   "display_name": "Python 3",
   "language": "python",
   "name": "python3"
  },
  "language_info": {
   "codemirror_mode": {
    "name": "ipython",
    "version": 3
   },
   "file_extension": ".py",
   "mimetype": "text/x-python",
   "name": "python",
   "nbconvert_exporter": "python",
   "pygments_lexer": "ipython3",
   "version": "3.8.2"
  }
 },
 "nbformat": 4,
 "nbformat_minor": 4
}
