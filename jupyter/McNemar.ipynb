{
 "cells": [
  {
   "cell_type": "code",
   "execution_count": 1,
   "metadata": {},
   "outputs": [],
   "source": [
    "import pickle\n",
    "import numpy as np\n",
    "from statsmodels.stats.contingency_tables import mcnemar"
   ]
  },
  {
   "cell_type": "code",
   "execution_count": 2,
   "metadata": {},
   "outputs": [],
   "source": [
    "lstm_result_path = \"../pickle/results_latefee.pickle\"\n",
    "classifiers_result_path = \"../pickle/classifiers_allclients.pickle\""
   ]
  },
  {
   "cell_type": "code",
   "execution_count": 3,
   "metadata": {},
   "outputs": [],
   "source": [
    "def compare(first_dict, second_dict):\n",
    "    dictionary = {}\n",
    "    for i in first_dict.keys():\n",
    "        first = first_dict[i]\n",
    "        second = second_dict[i]\n",
    "        res = first.merge(second, on='Key', how='left')\n",
    "        res[['scores_x', 'scores_y']] = res[['scores_x', 'scores_y']].round(decimals=0)\n",
    "\n",
    "        yes_yes = res[(res['actual_x'] != res['scores_x']) & (res['actual_x'] != res['scores_y'])].shape[0]\n",
    "        yes_no = res[(res['actual_x'] != res['scores_x']) & (res['actual_x'] == res['scores_y'])].shape[0]\n",
    "        no_yes = res[(res['actual_x'] == res['scores_x']) & (res['actual_x'] != res['scores_y'])].shape[0]\n",
    "        no_no = res[(res['actual_x'] == res['scores_x']) & (res['actual_x'] == res['scores_y'])].shape[0]\n",
    "\n",
    "        table = np.array([[yes_yes, yes_no], [no_yes, no_no]])\n",
    "        test = mcnemar(table, exact=False)\n",
    "        dictionary[i] = dict(pvalue=test.pvalue, statistic=test.statistic)\n",
    "    return dictionary"
   ]
  },
  {
   "cell_type": "code",
   "execution_count": 4,
   "metadata": {},
   "outputs": [
    {
     "name": "stdout",
     "output_type": "stream",
     "text": [
      "{'LSTM vc Neural Network': {'train': {'pvalue': 0.0, 'statistic': 2788.8375812743825}, 'test': {'pvalue': 2.7039565695768675e-26, 'statistic': 112.55259822560203}}, 'LSTM vc SVM': {'train': {'pvalue': 0.0, 'statistic': 2820.70206914615}, 'test': {'pvalue': 9.978541548314505e-64, 'statistic': 284.02240143369175}}, 'LSTM vc Random Forest': {'train': {'pvalue': 0.0, 'statistic': 4072.422804620544}, 'test': {'pvalue': 1.5869799369232135e-47, 'statistic': 209.71258671952427}}, 'LSTM vc Logistic Regression': {'train': {'pvalue': 0.0, 'statistic': 2671.8223529411766}, 'test': {'pvalue': 1.7364736012297305e-56, 'statistic': 250.80167597765364}}}\n"
     ]
    }
   ],
   "source": [
    "with open(lstm_result_path, \"rb\") as fp:\n",
    "    lstm_dict = pickle.load(fp)\n",
    "with open(classifiers_result_path, \"rb\") as fp:\n",
    "    classifiers_dict = pickle.load(fp)\n",
    "result = {}\n",
    "for i in classifiers_dict.keys():\n",
    "    result['LSTM vc ' + str(i)] = compare(lstm_dict, classifiers_dict[i])\n",
    "\n",
    "with open(\"../pickle/McNemar.pickle\", \"wb\") as fp:\n",
    "    pickle.dump(result, fp)\n",
    "\n",
    "print(result)"
   ]
  },
  {
   "cell_type": "code",
   "execution_count": null,
   "metadata": {},
   "outputs": [],
   "source": []
  }
 ],
 "metadata": {
  "kernelspec": {
   "display_name": "Python 3",
   "language": "python",
   "name": "python3"
  },
  "language_info": {
   "codemirror_mode": {
    "name": "ipython",
    "version": 3
   },
   "file_extension": ".py",
   "mimetype": "text/x-python",
   "name": "python",
   "nbconvert_exporter": "python",
   "pygments_lexer": "ipython3",
   "version": "3.8.2"
  }
 },
 "nbformat": 4,
 "nbformat_minor": 4
}
